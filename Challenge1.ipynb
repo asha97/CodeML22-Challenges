{
 "cells": [
  {
   "cell_type": "code",
   "execution_count": 1,
   "id": "6cc9264c-c5c7-4908-ae77-780bd73a1d01",
   "metadata": {},
   "outputs": [],
   "source": [
    "import pandas as pd\n",
    "import numpy as np\n",
    "from sklearn.feature_extraction.text import CountVectorizer\n",
    "from sklearn.model_selection import train_test_split\n",
    "from sklearn.naive_bayes import MultinomialNB\n",
    "from sklearn import metrics\n"
   ]
  },
  {
   "cell_type": "code",
   "execution_count": 2,
   "id": "e773244e-ed52-4ac8-a7bb-2d2a56e666bb",
   "metadata": {},
   "outputs": [
    {
     "data": {
      "text/html": [
       "<div>\n",
       "<style scoped>\n",
       "    .dataframe tbody tr th:only-of-type {\n",
       "        vertical-align: middle;\n",
       "    }\n",
       "\n",
       "    .dataframe tbody tr th {\n",
       "        vertical-align: top;\n",
       "    }\n",
       "\n",
       "    .dataframe thead th {\n",
       "        text-align: right;\n",
       "    }\n",
       "</style>\n",
       "<table border=\"1\" class=\"dataframe\">\n",
       "  <thead>\n",
       "    <tr style=\"text-align: right;\">\n",
       "      <th></th>\n",
       "      <th>Text</th>\n",
       "      <th>Language</th>\n",
       "      <th>ID</th>\n",
       "    </tr>\n",
       "  </thead>\n",
       "  <tbody>\n",
       "    <tr>\n",
       "      <th>0</th>\n",
       "      <td>şirket icra kurulu başkanı melih abdülhayoğlu ...</td>\n",
       "      <td>Turkish</td>\n",
       "      <td>26110</td>\n",
       "    </tr>\n",
       "    <tr>\n",
       "      <th>1</th>\n",
       "      <td>매춘업의 공식화를 주장한 민원식은 \"우又 근경近頃 일본인이 주가 음식매점 등국내 도...</td>\n",
       "      <td>Korean</td>\n",
       "      <td>26862</td>\n",
       "    </tr>\n",
       "    <tr>\n",
       "      <th>2</th>\n",
       "      <td>خلال عظاته ركز التعليم اللاهوتي للبابا على الش...</td>\n",
       "      <td>Arabic</td>\n",
       "      <td>20562</td>\n",
       "    </tr>\n",
       "    <tr>\n",
       "      <th>3</th>\n",
       "      <td>soggin was born on  march  he took his first d...</td>\n",
       "      <td>English</td>\n",
       "      <td>14298</td>\n",
       "    </tr>\n",
       "    <tr>\n",
       "      <th>4</th>\n",
       "      <td>kulturmejeriet är sedan mitten av -talet en vi...</td>\n",
       "      <td>Swedish</td>\n",
       "      <td>17338</td>\n",
       "    </tr>\n",
       "  </tbody>\n",
       "</table>\n",
       "</div>"
      ],
      "text/plain": [
       "                                                Text Language     ID\n",
       "0  şirket icra kurulu başkanı melih abdülhayoğlu ...  Turkish  26110\n",
       "1  매춘업의 공식화를 주장한 민원식은 \"우又 근경近頃 일본인이 주가 음식매점 등국내 도...   Korean  26862\n",
       "2  خلال عظاته ركز التعليم اللاهوتي للبابا على الش...   Arabic  20562\n",
       "3  soggin was born on  march  he took his first d...  English  14298\n",
       "4  kulturmejeriet är sedan mitten av -talet en vi...  Swedish  17338"
      ]
     },
     "execution_count": 2,
     "metadata": {},
     "output_type": "execute_result"
    }
   ],
   "source": [
    "df = pd.read_csv(\"language-identification-datasets.csv\")\n",
    "df.head()\n"
   ]
  },
  {
   "cell_type": "code",
   "execution_count": 3,
   "id": "696d2b34-9f48-4d67-9dd7-e8457afc522b",
   "metadata": {},
   "outputs": [
    {
     "data": {
      "text/plain": [
       "Text           0\n",
       "Language    6686\n",
       "ID             0\n",
       "dtype: int64"
      ]
     },
     "execution_count": 3,
     "metadata": {},
     "output_type": "execute_result"
    }
   ],
   "source": [
    "df.isnull().sum()\n"
   ]
  },
  {
   "cell_type": "code",
   "execution_count": 4,
   "id": "89557e6d-0071-46ce-aaff-2c2d1a0dda37",
   "metadata": {},
   "outputs": [],
   "source": [
    "to_predict = df[df['Language'].isna()]\n",
    "train_set = df.dropna()"
   ]
  },
  {
   "cell_type": "code",
   "execution_count": 5,
   "id": "9f916e2e-6cef-452e-96f2-ee181d899019",
   "metadata": {},
   "outputs": [
    {
     "data": {
      "text/plain": [
       "English       1877\n",
       "French        1596\n",
       "Spanish       1418\n",
       "Russian       1329\n",
       "Dutch         1226\n",
       "Arabic        1190\n",
       "Turkish       1170\n",
       "Tamil         1156\n",
       "Hindi          842\n",
       "Japanese       824\n",
       "Korean         795\n",
       "Indonesian     794\n",
       "Chinese        791\n",
       "Swedish        788\n",
       "Urdu           787\n",
       "Pushto         786\n",
       "Portugese      785\n",
       "Latin          784\n",
       "Persian        784\n",
       "Thai           770\n",
       "Estonian       768\n",
       "Romanian       762\n",
       "Italian        537\n",
       "Malayalam      452\n",
       "German         379\n",
       "Danish         342\n",
       "Kannada        301\n",
       "Greek          293\n",
       "Name: Language, dtype: int64"
      ]
     },
     "execution_count": 5,
     "metadata": {},
     "output_type": "execute_result"
    }
   ],
   "source": [
    "train_set[\"Language\"].value_counts()\n"
   ]
  },
  {
   "cell_type": "code",
   "execution_count": 6,
   "id": "c9adfe6c-48bb-4b4b-9c00-55094fe407ea",
   "metadata": {},
   "outputs": [],
   "source": [
    "x = np.array(train_set[\"Text\"])\n",
    "y = np.array(train_set[\"Language\"])\n",
    "\n",
    "cv = CountVectorizer()\n",
    "X = cv.fit_transform(x)\n",
    "X_train, X_test, y_train, y_test = train_test_split(X, y, \n",
    "                                                    test_size=0.2, \n",
    "                                                    random_state=42)"
   ]
  },
  {
   "cell_type": "code",
   "execution_count": 7,
   "id": "d2d92971-8d0f-47f7-b26d-0504e6db367c",
   "metadata": {},
   "outputs": [
    {
     "data": {
      "text/plain": [
       "0.9545828195643239"
      ]
     },
     "execution_count": 7,
     "metadata": {},
     "output_type": "execute_result"
    }
   ],
   "source": [
    "model = MultinomialNB()\n",
    "model.fit(X_train,y_train)\n",
    "model.score(X_test,y_test)"
   ]
  },
  {
   "cell_type": "code",
   "execution_count": 8,
   "id": "b0e0a2d3-5171-4f13-b129-d86d51ccf5f3",
   "metadata": {},
   "outputs": [],
   "source": [
    "prediction_test = model.predict(X_test)\n"
   ]
  },
  {
   "cell_type": "code",
   "execution_count": 9,
   "id": "61a33012-d20e-43f7-a16b-3f5855780781",
   "metadata": {},
   "outputs": [
    {
     "data": {
      "text/plain": [
       "0.9537146014014221"
      ]
     },
     "execution_count": 9,
     "metadata": {},
     "output_type": "execute_result"
    }
   ],
   "source": [
    "metrics.f1_score(y_test, prediction_test, average='weighted')"
   ]
  },
  {
   "cell_type": "code",
   "execution_count": null,
   "id": "c1bafb55-1fcb-4c09-8786-fa3850bef189",
   "metadata": {},
   "outputs": [],
   "source": []
  }
 ],
 "metadata": {
  "kernelspec": {
   "display_name": "Python 3 (ipykernel)",
   "language": "python",
   "name": "python3"
  },
  "language_info": {
   "codemirror_mode": {
    "name": "ipython",
    "version": 3
   },
   "file_extension": ".py",
   "mimetype": "text/x-python",
   "name": "python",
   "nbconvert_exporter": "python",
   "pygments_lexer": "ipython3",
   "version": "3.9.12"
  }
 },
 "nbformat": 4,
 "nbformat_minor": 5
}
